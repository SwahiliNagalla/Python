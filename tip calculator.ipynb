{
 "cells": [
  {
   "cell_type": "code",
   "execution_count": 23,
   "id": "8e891864-035c-4782-8865-1f3e401011dc",
   "metadata": {},
   "outputs": [
    {
     "name": "stdout",
     "output_type": "stream",
     "text": [
      "welcome to the tip calculator!\n"
     ]
    },
    {
     "name": "stdin",
     "output_type": "stream",
     "text": [
      "what was the total bill?$ 100\n",
      "how much tip would you like to give?10,15 or 20: 15\n",
      "How many people to split the bill? 4\n"
     ]
    },
    {
     "name": "stdout",
     "output_type": "stream",
     "text": [
      "115.0\n"
     ]
    }
   ],
   "source": [
    "print(\"welcome to the tip calculator!\")\n",
    "bill=float((input(\"what was the total bill?$\")))\n",
    "tip=int(input(\"how much tip would you like to give?10,15 or 20:\"))\n",
    "people=int(input(\"How many people to split the bill?\"))\n",
    "bill_with_tip=tip/100*bill+bill\n",
    "print(bill_with_tip)"
   ]
  },
  {
   "cell_type": "code",
   "execution_count": null,
   "id": "6a64bb98-5c03-4c39-a126-0fb508121ff0",
   "metadata": {},
   "outputs": [],
   "source": []
  }
 ],
 "metadata": {
  "kernelspec": {
   "display_name": "Python 3 (ipykernel)",
   "language": "python",
   "name": "python3"
  },
  "language_info": {
   "codemirror_mode": {
    "name": "ipython",
    "version": 3
   },
   "file_extension": ".py",
   "mimetype": "text/x-python",
   "name": "python",
   "nbconvert_exporter": "python",
   "pygments_lexer": "ipython3",
   "version": "3.12.4"
  }
 },
 "nbformat": 4,
 "nbformat_minor": 5
}
