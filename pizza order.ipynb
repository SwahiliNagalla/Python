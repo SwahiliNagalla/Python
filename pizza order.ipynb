{
 "cells": [
  {
   "cell_type": "code",
   "execution_count": null,
   "id": "27997250-0040-4854-9514-d6433115bdd7",
   "metadata": {},
   "outputs": [
    {
     "name": "stdout",
     "output_type": "stream",
     "text": [
      "Thank you for choosing Python Pizza Deliveries!\n"
     ]
    }
   ],
   "source": [
    "print (\"Thank you for choosing Python Pizza Deliveries!\")\n",
    "size = input(\"What size pizza do you want? s, M, or L\") \n",
    "add_pepperoni = input(\"Do you want pepperoni? Y or N\") \n",
    "extra_cheese = input(\"Do you want extra cheese? Y or N\") \n",
    "bill = 0\n",
    "if size == \"S\":\n",
    "    bill += 15\n",
    "elif size == \"M\":\n",
    "    bill += 20\n",
    "else :\n",
    "    bill += 25\n",
    "    \n",
    "if add_pepperoni==\"y\":\n",
    "    if size==\"s\":\n",
    "        bill+=2\n",
    "    else:\n",
    "        bill+=3\n",
    "if  extra_cheese==\"y\":\n",
    "    if size==\"s\":\n",
    "        bill +=1\n",
    "\n",
    "    \n",
    "print(f\"your final bill is ${bill}\")\n"
   ]
  },
  {
   "cell_type": "code",
   "execution_count": null,
   "id": "f7a37213-535f-41e7-bb77-1bf3df3802ae",
   "metadata": {},
   "outputs": [],
   "source": []
  },
  {
   "cell_type": "code",
   "execution_count": null,
   "id": "8e891864-035c-4782-8865-1f3e401011dc",
   "metadata": {},
   "outputs": [],
   "source": []
  }
 ],
 "metadata": {
  "kernelspec": {
   "display_name": "Python 3 (ipykernel)",
   "language": "python",
   "name": "python3"
  },
  "language_info": {
   "codemirror_mode": {
    "name": "ipython",
    "version": 3
   },
   "file_extension": ".py",
   "mimetype": "text/x-python",
   "name": "python",
   "nbconvert_exporter": "python",
   "pygments_lexer": "ipython3",
   "version": "3.12.4"
  }
 },
 "nbformat": 4,
 "nbformat_minor": 5
}
