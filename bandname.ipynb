{
 "cells": [
  {
   "cell_type": "code",
   "execution_count": 1,
   "id": "bb9d1f8f-51ee-4d1c-abab-473919bddfac",
   "metadata": {},
   "outputs": [
    {
     "name": "stdout",
     "output_type": "stream",
     "text": [
      "welcome to the band name generator!\n"
     ]
    },
    {
     "name": "stdin",
     "output_type": "stream",
     "text": [
      "which city you grew up in?\n",
      " Bristol\n",
      "what's your pet name?\n",
      " rabbit\n"
     ]
    },
    {
     "name": "stdout",
     "output_type": "stream",
     "text": [
      "your band name could be Bristol rabbit\n"
     ]
    }
   ],
   "source": [
    "print(\"welcome to the band name generator!\")\n",
    "City =input(\"which city you grew up in?\\n\")\n",
    "Pet =input(\"what's your pet name?\\n\")\n",
    "print(\"your band name could be \"+ City + \" \" +Pet)"
   ]
  },
  {
   "cell_type": "code",
   "execution_count": null,
   "id": "340b3a3a-42db-478f-bb94-6baec90419c6",
   "metadata": {},
   "outputs": [],
   "source": []
  }
 ],
 "metadata": {
  "kernelspec": {
   "display_name": "Python 3 (ipykernel)",
   "language": "python",
   "name": "python3"
  },
  "language_info": {
   "codemirror_mode": {
    "name": "ipython",
    "version": 3
   },
   "file_extension": ".py",
   "mimetype": "text/x-python",
   "name": "python",
   "nbconvert_exporter": "python",
   "pygments_lexer": "ipython3",
   "version": "3.12.4"
  }
 },
 "nbformat": 4,
 "nbformat_minor": 5
}
