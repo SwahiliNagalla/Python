{
 "cells": [
  {
   "cell_type": "code",
   "execution_count": 1,
   "id": "bb9d1f8f-51ee-4d1c-abab-473919bddfac",
   "metadata": {},
   "outputs": [
    {
     "name": "stdin",
     "output_type": "stream",
     "text": [
      " 1.7\n",
      " 35\n"
     ]
    },
    {
     "name": "stdout",
     "output_type": "stream",
     "text": [
      "12\n"
     ]
    }
   ],
   "source": [
    "height= input()\n",
    "weight=input()\n",
    "weight_as_int=int(weight)\n",
    "height_as_float= float(height)\n",
    "BMI= weight_as_int/height_as_float**2\n",
    "BMI_as_int=int(BMI)\n",
    "print(BMI_as_int)\n"
   ]
  },
  {
   "cell_type": "code",
   "execution_count": 5,
   "id": "340b3a3a-42db-478f-bb94-6baec90419c6",
   "metadata": {},
   "outputs": [
    {
     "name": "stdin",
     "output_type": "stream",
     "text": [
      " 1.7\n",
      " 35\n"
     ]
    },
    {
     "name": "stdout",
     "output_type": "stream",
     "text": [
      "12.110726643598618\n",
      "your bmi is 12.110726643598618, you are under weight\n"
     ]
    }
   ],
   "source": [
    "height= float(input())\n",
    "weight=int(input())\n",
    "bmi= weight/height**2\n",
    "print(bmi)\n",
    "if bmi<18.5:\n",
    "    print(f\"your bmi is {bmi}, you are under weight\")\n",
    "elif bmi<25:\n",
    "    print(f\"your bmi is {bmi}, you are normal weight\")\n",
    "elif bmi<30:\n",
    "    print(f\"your bmi is {bmi}, you are sightly over weight\")\n",
    "elif bmi<35:\n",
    "    print(f\"your bmi is {bmi}, you are obese\")\n",
    "else:\n",
    "    print(f\"you are clinically obese\")"
   ]
  }
 ],
 "metadata": {
  "kernelspec": {
   "display_name": "Python 3 (ipykernel)",
   "language": "python",
   "name": "python3"
  },
  "language_info": {
   "codemirror_mode": {
    "name": "ipython",
    "version": 3
   },
   "file_extension": ".py",
   "mimetype": "text/x-python",
   "name": "python",
   "nbconvert_exporter": "python",
   "pygments_lexer": "ipython3",
   "version": "3.12.4"
  }
 },
 "nbformat": 4,
 "nbformat_minor": 5
}
