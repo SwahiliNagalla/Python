{
 "cells": [
  {
   "cell_type": "code",
   "execution_count": 8,
   "id": "bb9d1f8f-51ee-4d1c-abab-473919bddfac",
   "metadata": {},
   "outputs": [
    {
     "name": "stdout",
     "output_type": "stream",
     "text": [
      "Welcome to the roller coaster ride!\n"
     ]
    },
    {
     "name": "stdin",
     "output_type": "stream",
     "text": [
      "What is your height in cm?  125\n",
      "What is your age?  19\n"
     ]
    },
    {
     "name": "stdout",
     "output_type": "stream",
     "text": [
      "You can ride the roller coaster!\n",
      "Adult ticket price is $12\n"
     ]
    },
    {
     "name": "stdin",
     "output_type": "stream",
     "text": [
      "Do you want a photo taken? y or no:  y\n"
     ]
    },
    {
     "name": "stdout",
     "output_type": "stream",
     "text": [
      "Your final bill is $15\n"
     ]
    }
   ],
   "source": [
    "print(\"Welcome to the roller coaster ride!\")\n",
    "height = int(input(\"What is your height in cm? \"))\n",
    "age = int(input(\"What is your age? \"))\n",
    "\n",
    "if height >= 120:\n",
    "    print(\"You can ride the roller coaster!\")\n",
    "    if age < 12:\n",
    "        print(\"Child ticket price is $5\")\n",
    "        bill = 5\n",
    "    elif age < 18:\n",
    "        print(\"Youth ticket price is $7\")\n",
    "        bill = 7\n",
    "    else:\n",
    "        print(\"Adult ticket price is $12\")\n",
    "        bill = 12\n",
    "    \n",
    "    wants_photo = input(\"Do you want a photo taken? y or no: \")\n",
    "    if wants_photo.lower() == \"y\":\n",
    "        bill += 3\n",
    "    \n",
    "    print(f\"Your final bill is ${bill}\")\n",
    "else:\n",
    "    print(\"You can't ride the roller coaster!\")"
   ]
  },
  {
   "cell_type": "code",
   "execution_count": 17,
   "id": "27997250-0040-4854-9514-d6433115bdd7",
   "metadata": {},
   "outputs": [
    {
     "name": "stdout",
     "output_type": "stream",
     "text": [
      "Welcome to the roller coaster ride!\n"
     ]
    },
    {
     "name": "stdin",
     "output_type": "stream",
     "text": [
      "What is your height in cm?  125\n",
      "What is your age?  19\n"
     ]
    },
    {
     "name": "stdout",
     "output_type": "stream",
     "text": [
      "You can ride the roller coaster!\n",
      "Adult ticket price is $12\n"
     ]
    },
    {
     "name": "stdin",
     "output_type": "stream",
     "text": [
      "Do you want a photo taken? y or no:  y\n"
     ]
    },
    {
     "name": "stdout",
     "output_type": "stream",
     "text": [
      "Your final bill is $15\n"
     ]
    }
   ],
   "source": [
    "print(\"Welcome to the roller coaster ride!\")\n",
    "height = int(input(\"What is your height in cm? \"))\n",
    "age = int(input(\"What is your age? \"))\n",
    "\n",
    "if height >= 120:\n",
    "    print(\"You can ride the roller coaster!\")\n",
    "    if age < 12:\n",
    "        print(\"Child ticket price is $5\")\n",
    "        bill = 5\n",
    "    elif age < 18:\n",
    "        print(\"Youth ticket price is $7\")\n",
    "        bill = 7\n",
    "    elif age >= 45 and age <= 55:  # Corrected this line\n",
    "        print(\"Everything is going to be okay. Get a free ride on us!\")\n",
    "        bill = 0  # Assign bill to 0 since the ride is free\n",
    "    else:\n",
    "        print(\"Adult ticket price is $12\")\n",
    "        bill = 12\n",
    "    \n",
    "    wants_photo = input(\"Do you want a photo taken? y or no: \")\n",
    "    if wants_photo.lower() == \"y\":\n",
    "        bill += 3\n",
    "    \n",
    "    print(f\"Your final bill is ${bill}\")\n",
    "else:\n",
    "    print(\"You can't ride the roller coaster!\")"
   ]
  },
  {
   "cell_type": "code",
   "execution_count": null,
   "id": "f7a37213-535f-41e7-bb77-1bf3df3802ae",
   "metadata": {},
   "outputs": [],
   "source": []
  },
  {
   "cell_type": "code",
   "execution_count": null,
   "id": "8e891864-035c-4782-8865-1f3e401011dc",
   "metadata": {},
   "outputs": [],
   "source": []
  }
 ],
 "metadata": {
  "kernelspec": {
   "display_name": "Python 3 (ipykernel)",
   "language": "python",
   "name": "python3"
  },
  "language_info": {
   "codemirror_mode": {
    "name": "ipython",
    "version": 3
   },
   "file_extension": ".py",
   "mimetype": "text/x-python",
   "name": "python",
   "nbconvert_exporter": "python",
   "pygments_lexer": "ipython3",
   "version": "3.12.4"
  }
 },
 "nbformat": 4,
 "nbformat_minor": 5
}
