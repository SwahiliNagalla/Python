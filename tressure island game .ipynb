{
 "cells": [
  {
   "cell_type": "code",
   "execution_count": 21,
   "id": "8e891864-035c-4782-8865-1f3e401011dc",
   "metadata": {},
   "outputs": [
    {
     "name": "stdout",
     "output_type": "stream",
     "text": [
      "Welcome to Treasure Island\n",
      "Your mission is to find the treasure.\n"
     ]
    },
    {
     "name": "stdin",
     "output_type": "stream",
     "text": [
      "Where do you want to go? Type \"left\" or \"right\":  left\n",
      "What do you want to do? Type \"swim\" or \"wait\":  wait\n",
      "Which door? Type \"red\", \"blue\", or \"yellow\":  yello\n"
     ]
    },
    {
     "name": "stdout",
     "output_type": "stream",
     "text": [
      "you choose a door that doesnot exist\n"
     ]
    }
   ],
   "source": [
    "print(\"Welcome to Treasure Island\")\n",
    "print(\"Your mission is to find the treasure.\")\n",
    "choice1 = input('Where do you want to go? Type \"left\" or \"right\": ')\n",
    "if choice1==\"left\":\n",
    "    choice2 = input('What do you want to do? Type \"swim\" or \"wait\": ')\n",
    "    if choice2==\"wait\":\n",
    "        choice3 = input('Which door? Type \"red\", \"blue\", or \"yellow\": ')\n",
    "        if choice3==\"yellow\":\n",
    "            print(\"you win\")\n",
    "        elif choice3==\"red\":\n",
    "            print(\"Burned by fire.Game over\")\n",
    "        elif choice3==\"blue\":\n",
    "            print(\"eaten by beasts.game over\")\n",
    "        else:\n",
    "            print(\"you choose a door that doesnot exist\")\n",
    "    else:\n",
    "        print(\"Attacked by trout. Game over\")\n",
    "else:\n",
    "    print(\"Fall in to a hole. game over\")\n"
   ]
  },
  {
   "cell_type": "code",
   "execution_count": null,
   "id": "6a64bb98-5c03-4c39-a126-0fb508121ff0",
   "metadata": {},
   "outputs": [],
   "source": []
  }
 ],
 "metadata": {
  "kernelspec": {
   "display_name": "Python 3 (ipykernel)",
   "language": "python",
   "name": "python3"
  },
  "language_info": {
   "codemirror_mode": {
    "name": "ipython",
    "version": 3
   },
   "file_extension": ".py",
   "mimetype": "text/x-python",
   "name": "python",
   "nbconvert_exporter": "python",
   "pygments_lexer": "ipython3",
   "version": "3.12.4"
  }
 },
 "nbformat": 4,
 "nbformat_minor": 5
}
